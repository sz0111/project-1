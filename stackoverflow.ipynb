{
 "cells": [
  {
   "cell_type": "markdown",
   "metadata": {},
   "source": [
    "# Introduction\n",
    "\n",
    "This report aims to gain some insights from StackOverflow survey datasets through some operations on pandas. This could be from two perspectives. The first is to reveal year-to-year trend as an overview, and the second is a deeper analysis on data scientist jobs as a specific area. In order to achieve this goal, the following questions are proposed to address. \n",
    "1.\tWhat is the gender ratio? What are the education requirements, and how do they change across different years? \n",
    "2.\tWhat is the trend of the job salary change in these three years? \n",
    "3.\tHow is the salary of data scientist compared to other job roles? \n",
    "4.\tWhat is the impact of age and experience on data scientists salary, and how is it compared to other job roles?\n",
    "5.\tWhat programming languages are required to be qualified as a data scientist?    "
   ]
  },
  {
   "cell_type": "code",
   "execution_count": 27,
   "metadata": {},
   "outputs": [],
   "source": [
    "import pandas as pd\n",
    "import matplotlib.pyplot as plt\n",
    "import numpy as np\n",
    "import seaborn as sns"
   ]
  },
  {
   "cell_type": "markdown",
   "metadata": {},
   "source": [
    "# Read data"
   ]
  },
  {
   "cell_type": "code",
   "execution_count": 28,
   "metadata": {},
   "outputs": [
    {
     "name": "stderr",
     "output_type": "stream",
     "text": [
      "/Users/i342478/miniconda3/envs/test/lib/python3.5/site-packages/IPython/core/interactiveshell.py:2785: DtypeWarning: Columns (8,12,13,14,15,16,50,51,52,53,55,56,57,58,59,60,61,62,63,64,65,66,67,68,69,70,71,72,73,74,75,76,77,78,79,80,81,82,83,84,85,93,94,95,96,97,98,99,100,101,102,103,104,105,106,107,108,109,110,111,112,113,114,115,116,117,118,119,120,121,122,123,124,125,126,127,128) have mixed types. Specify dtype option on import or set low_memory=False.\n",
      "  interactivity=interactivity, compiler=compiler, result=result)\n"
     ]
    }
   ],
   "source": [
    "import os\n",
    "data_2017 = pd.read_csv('./input/so-survey-2017/survey_results_public.csv')\n",
    "data_2018 = pd.read_csv('./input/developer_survey_2018/survey_results_public.csv')\n",
    "data_2019 = pd.read_csv('./input/developer_survey_2019/survey_results_public.csv')\n",
    "pd.set_option('max_columns', 500)\n",
    "pd.options.display.float_format = '{:,.4f}'.format"
   ]
  },
  {
   "cell_type": "markdown",
   "metadata": {},
   "source": [
    "# Year-to-year trend"
   ]
  },
  {
   "cell_type": "markdown",
   "metadata": {},
   "source": [
    "## Gender \n",
    "\n",
    "We analyze percentages of gender during the years 2017, 2018 and 2019. Only the rows indicating as 'male' or 'female' are taken into consideration. Their pie charts are plotted in the following.\n",
    "\n",
    "Findings:\n",
    "\n",
    "(1) Males take a much higher percentage than females, and consistently dominating the IT domain.\n",
    "\n",
    "(2) During the 3 years, there is no significant trend implying the change of ratio between females and males."
   ]
  },
  {
   "cell_type": "code",
   "execution_count": 29,
   "metadata": {},
   "outputs": [
    {
     "data": {
      "image/png": "[encoded data removed]",
      "text/plain": [
       "<matplotlib.figure.Figure at 0x1262b0438>"
      ]
     },
     "metadata": {},
     "output_type": "display_data"
    }
   ],
   "source": [
    "g_2017 = [data_2017['Gender'].value_counts()['Male'], data_2017['Gender'].value_counts()['Female']]\n",
    "g_2018 = [data_2018['Gender'].value_counts()['Male'], data_2018['Gender'].value_counts()['Female']]\n",
    "g_2019 = [data_2019['Gender'].value_counts()['Man'], data_2019['Gender'].value_counts()['Woman']]\n",
    "labels = 'Male', 'Female'\n",
    "fig = plt.figure()\n",
    "ax1 = fig.add_axes([0, 0, .5, .5], aspect=1)\n",
    "ax1.pie(g_2017, labels=labels, radius = 1.2, autopct='%1.2f%%', startangle=90)\n",
    "ax2 = fig.add_axes([.5, .0, .5, .5], aspect=1)\n",
    "ax2.pie(g_2018, labels=labels, radius = 1.2, autopct='%1.2f%%', startangle=90)\n",
    "ax3 = fig.add_axes([1.0, .0, .5, .5], aspect=1)\n",
    "ax3.pie(g_2019, labels=labels, radius = 1.2, autopct='%1.2f%%', startangle=90)\n",
    "ax1.set_title('year 2017')\n",
    "ax2.set_title('year 2018')\n",
    "ax3.set_title('year 2019')\n",
    "plt.show()"
   ]
  },
  {
   "cell_type": "markdown",
   "metadata": {},
   "source": [
    "## Education\n",
    "\n",
    "The highest education degrees of the responses are listed in ratios over the entire categories. \n",
    "\n",
    "Findings:\n",
    "\n",
    "(1)\tThe ratios for bachelor’s degree, master’s degree and Ph.D degree are consistent over the years  2017-2019. \n",
    "\n",
    "(2)\tIt can be seen that the ratio of ‘never completed any formal degree’ is slightly decreasing from year 2017 to year 2018 and to year 2019, and this fits our intuition. "
   ]
  },
  {
   "cell_type": "code",
   "execution_count": 30,
   "metadata": {},
   "outputs": [
    {
     "name": "stdout",
     "output_type": "stream",
     "text": [
      "Year 2017, education distribution \n",
      "\n"
     ]
    },
    {
     "data": {
      "text/plain": [
       "Bachelor's degree                                                   0.4205\n",
       "Master's degree                                                     0.2168\n",
       "Some college/university study without earning a bachelor's degree   0.1582\n",
       "Secondary school                                                    0.1150\n",
       "Doctoral degree                                                     0.0255\n",
       "I prefer not to answer                                              0.0216\n",
       "Primary/elementary school                                           0.0204\n",
       "Professional degree                                                 0.0139\n",
       "I never completed any formal education                              0.0083\n",
       "Name: FormalEducation, dtype: float64"
      ]
     },
     "execution_count": 30,
     "metadata": {},
     "output_type": "execute_result"
    }
   ],
   "source": [
    "print('Year 2017, education distribution \\n')\n",
    "data_2017['FormalEducation'].value_counts()/data_2017.shape[0]"
   ]
  },
  {
   "cell_type": "code",
   "execution_count": 31,
   "metadata": {},
   "outputs": [
    {
     "name": "stdout",
     "output_type": "stream",
     "text": [
      "Year 2018, education distribution \n",
      "\n"
     ]
    },
    {
     "data": {
      "text/plain": [
       "Bachelor’s degree (BA, BS, B.Eng., etc.)                                             0.4416\n",
       "Master’s degree (MA, MS, M.Eng., MBA, etc.)                                          0.2164\n",
       "Some college/university study without earning a degree                               0.1185\n",
       "Secondary school (e.g. American high school, German Realschule or Gymnasium, etc.)   0.0905\n",
       "Associate degree                                                                     0.0300\n",
       "Other doctoral degree (Ph.D, Ed.D., etc.)                                            0.0224\n",
       "Primary/elementary school                                                            0.0168\n",
       "Professional degree (JD, MD, etc.)                                                   0.0146\n",
       "I never completed any formal education                                               0.0071\n",
       "Name: FormalEducation, dtype: float64"
      ]
     },
     "execution_count": 31,
     "metadata": {},
     "output_type": "execute_result"
    }
   ],
   "source": [
    "print('Year 2018, education distribution \\n')\n",
    "data_2018['FormalEducation'].value_counts()/data_2018.shape[0]"
   ]
  },
  {
   "cell_type": "code",
   "execution_count": 32,
   "metadata": {},
   "outputs": [
    {
     "name": "stdout",
     "output_type": "stream",
     "text": [
      "Year 2019, education distribution \n",
      "\n"
     ]
    },
    {
     "data": {
      "text/plain": [
       "Bachelor’s degree (BA, BS, B.Eng., etc.)                                             0.4403\n",
       "Master’s degree (MA, MS, M.Eng., MBA, etc.)                                          0.2202\n",
       "Some college/university study without earning a degree                               0.1182\n",
       "Secondary school (e.g. American high school, German Realschule or Gymnasium, etc.)   0.0972\n",
       "Associate degree                                                                     0.0331\n",
       "Other doctoral degree (Ph.D, Ed.D., etc.)                                            0.0274\n",
       "Primary/elementary school                                                            0.0160\n",
       "Professional degree (JD, MD, etc.)                                                   0.0135\n",
       "I never completed any formal education                                               0.0062\n",
       "Name: EdLevel, dtype: float64"
      ]
     },
     "execution_count": 32,
     "metadata": {},
     "output_type": "execute_result"
    }
   ],
   "source": [
    "print('Year 2019, education distribution \\n')\n",
    "data_2019['EdLevel'].value_counts()/data_2019.shape[0]"
   ]
  },
  {
   "cell_type": "markdown",
   "metadata": {},
   "source": [
    "## Job salary \n",
    "\n",
    "The annual salary (in USD) distributions are plotted in the following, based on the available respondents. To best reflect reality, we remove the values that are found lower than 10,000 or higher than 800,000. We believe that giving up certain extreme values would help avoid rare cases such as miss-typed digits or wrong currency. \n",
    "\n",
    "Findings:\n",
    "\n",
    "(1)\tOver entire job roles, the mean annual incoming is in a range $60,000-80,000. This number, as expected, increases with time. \n",
    "\n",
    "(2)\tOver the years, the distribution intends to shift from median towards the high end, implying the growing potential of value in the job market.   "
   ]
  },
  {
   "cell_type": "code",
   "execution_count": 33,
   "metadata": {},
   "outputs": [],
   "source": [
    "lower_bound, upper_bound = 10000, 800000\n",
    "def salary_data_process(data, col_name):\n",
    "    convert = lambda x : float(str(x).replace(',', ''))\n",
    "    s = data[~data[col_name].isnull()][col_name].apply(convert)\n",
    "    s = [i for i in s if i > lower_bound and i < upper_bound]\n",
    "    return s\n",
    "s_2017 = salary_data_process(data_2017, 'Salary')\n",
    "s_2018 = salary_data_process(data_2018, 'ConvertedSalary')\n",
    "s_2019 = salary_data_process(data_2019, 'ConvertedComp')"
   ]
  },
  {
   "cell_type": "code",
   "execution_count": 34,
   "metadata": {},
   "outputs": [
    {
     "data": {
      "text/plain": [
       "<matplotlib.lines.Line2D at 0x118de1f98>"
      ]
     },
     "execution_count": 34,
     "metadata": {},
     "output_type": "execute_result"
    },
    {
     "data": {
      "image/png": "[encoded data removed]",
      "text/plain": [
       "<matplotlib.figure.Figure at 0x1199e5128>"
      ]
     },
     "metadata": {},
     "output_type": "display_data"
    }
   ],
   "source": [
    "sns.distplot(s_2017, hist = False, color=\"orange\", label=\"2017 with mean = %.2f\" % np.mean(s_2017))\n",
    "plt.axvline(np.mean(s_2017),color='orange', linestyle='--')\n",
    "sns.distplot(s_2018, hist = False, color=\"skyblue\", label=\"2018 with mean = %.2f\" % np.mean(s_2018))\n",
    "plt.axvline(np.mean(s_2018),color='skyblue', linestyle='--')\n",
    "sns.distplot(s_2019, hist = False, color=\"green\", label=\"2019 with mean = %.2f\" % np.mean(s_2019))\n",
    "plt.axvline(np.mean(s_2019),color='green', linestyle='--')"
   ]
  },
  {
   "cell_type": "markdown",
   "metadata": {},
   "source": [
    "# Career of data scientists"
   ]
  },
  {
   "cell_type": "markdown",
   "metadata": {},
   "source": [
    "## Salary comparison among careers\n",
    "\n",
    "We focus on investigating the careers of data scientist. Assume the most recent dataset in 2019 is representative for this career analysis. In the analysis below, we pay attention to the job category “data scientists and machine learning specialists”. \n",
    "\n",
    "In the following, we create a new data frame with their columns representing the categories of our interest, e.g. job role or programming languages. In order to fill up the categorical table, we create dummy variables in Boolean format. We then extract texts from each user’s feedback, and categorize them into one or more categories in the corresponding column of the table. \n",
    "\n",
    "Findings:\n",
    "\n",
    "(1)\tAmong the total 88883 respondents in 2019, there are 24 unique job roles. Out of 88883 respondents, there are 47933 respondents providing valid answers for salary column.  \n",
    "\n",
    "(2)\tThe resultant table shows that “data scientist” job is ranked 6th over the entire 24 roles in terms of mean annual incoming, which looks promising. \n"
   ]
  },
  {
   "cell_type": "code",
   "execution_count": 35,
   "metadata": {},
   "outputs": [],
   "source": [
    "def get_dummy(data, col_name):\n",
    "    data[col_name].fillna(\"\", inplace=True)\n",
    "    f = lambda x : [j for i in x for j in i]\n",
    "    uniqV = set(f([row.split(';') for row in data[col_name]]))\n",
    "    uniqV.remove('')\n",
    "    uniqV = list(uniqV)\n",
    "    dummies = pd.DataFrame(0, index=data.index, columns=uniqV)\n",
    "    for dummyCol in dummies.columns:\n",
    "        dummies[dummyCol] = data[col_name].map(lambda row: dummyCol in row)\n",
    "    return uniqV, dummies\n",
    "jobs, job_dummy = get_dummy(data_2019, 'DevType')\n",
    "languages, language_dummy = get_dummy(data_2019, 'LanguageWorkedWith')"
   ]
  },
  {
   "cell_type": "code",
   "execution_count": 36,
   "metadata": {},
   "outputs": [],
   "source": [
    "def get_partial_df(dummy):\n",
    "    _data = data_2019[['ConvertedComp', 'Age', 'YearsCode']].join(dummy)\n",
    "    _data = _data.dropna(subset=['ConvertedComp'], axis=0)\n",
    "    _data = _data.drop(_data[(_data.ConvertedComp < lower_bound) | (_data.ConvertedComp > upper_bound)].index)\n",
    "    return _data\n",
    "_data = get_partial_df(job_dummy)"
   ]
  },
  {
   "cell_type": "code",
   "execution_count": 37,
   "metadata": {},
   "outputs": [
    {
     "name": "stdout",
     "output_type": "stream",
     "text": [
      "    annual salary                                           jobs\n",
      "0    119,595.7145                            Senior executive/VP\n",
      "1    112,886.4020                            Engineering manager\n",
      "2    104,534.6391                     Engineer, site reliability\n",
      "3    101,157.2222                Marketing or sales professional\n",
      "4     92,075.9034                              DevOps specialist\n",
      "5     90,050.5945  Data scientist or machine learning specialist\n",
      "6     89,230.1782                                 Engineer, data\n",
      "7     88,912.0750                                Product manager\n",
      "8     85,976.9594                          Developer, full-stack\n",
      "9     85,735.6719    Developer, embedded applications or devices\n",
      "10    85,202.2554                            Developer, back-end\n",
      "11    84,726.5181                                      Scientist\n",
      "12    83,944.9090                       Data or business analyst\n",
      "13    83,827.6574  Developer, desktop or enterprise applications\n",
      "14    83,149.1427                         Database administrator\n",
      "15    82,870.5694                                       Designer\n",
      "16    82,745.0380                           System administrator\n",
      "17    81,240.7959                    Developer, game or graphics\n",
      "18    80,888.4654                           Developer, front-end\n",
      "19    80,741.9631                          Developer, QA or test\n",
      "20    79,427.5578                              Developer, mobile\n",
      "21    79,388.8322                                       Educator\n",
      "22    73,633.0205                            Academic researcher\n",
      "23    53,459.4408                                        Student\n"
     ]
    }
   ],
   "source": [
    "def relation_job_sal(_data):\n",
    "    salary = [_data['ConvertedComp'][_data[i]].mean() for i in jobs]\n",
    "    job_salary = pd.DataFrame({'jobs':jobs, 'annual salary':salary})\n",
    "    job_salary = job_salary.sort_values(by=['annual salary'], ascending=False)\n",
    "    job_salary.reset_index(inplace=True, drop=True)\n",
    "    return job_salary\n",
    "job_salary = relation_job_sal(_data)\n",
    "print(job_salary)"
   ]
  },
  {
   "cell_type": "markdown",
   "metadata": {},
   "source": [
    "## Impact of age\n",
    "\n",
    "We monitor the impact of age on data scientist career and attempt to establish the relationship between data scientist salary and age. In the following we create a function that takes a job role of interest, an attribute parameter of interest (such as age), and step function grid (for aggregating result) as its input, and returns mean values of salary corresponding to a certain range of the parameter. \n",
    "\n",
    "The change of salary with age is plotted in the following. As a reference, we plot the salary of “full stack developers” in the green curve. \n",
    "\n",
    "It is found that for data scientists their salary increases almost linearly with the age reaching even 60 years old. For full stack developers, this increase slows down beyond the age of 47.  "
   ]
  },
  {
   "cell_type": "code",
   "execution_count": 38,
   "metadata": {},
   "outputs": [],
   "source": [
    "def _for_a_job_role(_data, job_role, col_name, grid):\n",
    "    def change_style(l):\n",
    "        try:\n",
    "            return int(l)\n",
    "        except:\n",
    "            pass\n",
    "    d = _data[_data[job_role]][['ConvertedComp', col_name]]\n",
    "    d = d.dropna(subset = [col_name], axis=0)\n",
    "    d[col_name] = d[[col_name]].apply(lambda x : change_style(x), axis=1)\n",
    "    d = d.groupby(pd.cut(d[col_name], grid)).mean()\n",
    "    d = d.rename(columns={\"ConvertedComp\": \"annual salary\"})\n",
    "    return d"
   ]
  },
  {
   "cell_type": "code",
   "execution_count": 39,
   "metadata": {},
   "outputs": [],
   "source": [
    "r = np.arange(15,65,8)\n",
    "ds_age = _for_a_job_role(_data, 'Data scientist or machine learning specialist', 'Age', r)\n",
    "full_stack_age = _for_a_job_role(_data, 'Developer, full-stack', 'Age', r)"
   ]
  },
  {
   "cell_type": "code",
   "execution_count": 40,
   "metadata": {
    "scrolled": true
   },
   "outputs": [
    {
     "data": {
      "text/plain": [
       "<matplotlib.axes._subplots.AxesSubplot at 0x118df4400>"
      ]
     },
     "execution_count": 40,
     "metadata": {},
     "output_type": "execute_result"
    },
    {
     "data": {
      "image/png": "[encoded data removed]",
      "text/plain": [
       "<matplotlib.figure.Figure at 0x1198ac470>"
      ]
     },
     "metadata": {},
     "output_type": "display_data"
    }
   ],
   "source": [
    "ax = ds_age.plot(y='annual salary', color = 'b', label = 'Salary of data scientists')\n",
    "full_stack_age.plot(ax=ax, color = 'g', y='annual salary', label = 'Salary of full-stack developers')"
   ]
  },
  {
   "cell_type": "markdown",
   "metadata": {},
   "source": [
    "## Impact of coding experience\n",
    "\n",
    "Similarly, the change of salary with coding experience is plotted. \n",
    "\n",
    "While the salary is increasing for both data scientist and full stack developer, a surprising observation is that the salary is extremely high for ds with 35-40 years of coding experience. This might be partially due to bias from limited samples under rare cases as well as a better return from a higher educational level, which will be revealed later in the next session about education impact."
   ]
  },
  {
   "cell_type": "code",
   "execution_count": 41,
   "metadata": {},
   "outputs": [],
   "source": [
    "r = np.arange(0,50,5)\n",
    "ds_codeyear = _for_a_job_role(_data,'Data scientist or machine learning specialist', 'YearsCode', r)\n",
    "full_stack_codeyear = _for_a_job_role(_data,'Developer, full-stack', 'YearsCode', r)"
   ]
  },
  {
   "cell_type": "code",
   "execution_count": 42,
   "metadata": {},
   "outputs": [
    {
     "data": {
      "text/plain": [
       "<matplotlib.axes._subplots.AxesSubplot at 0x1188a5eb8>"
      ]
     },
     "execution_count": 42,
     "metadata": {},
     "output_type": "execute_result"
    },
    {
     "data": {
      "image/png": "[encoded data removed]",
      "text/plain": [
       "<matplotlib.figure.Figure at 0x1250fcd30>"
      ]
     },
     "metadata": {},
     "output_type": "display_data"
    }
   ],
   "source": [
    "ax = ds_codeyear.plot(y='annual salary', color = 'b', label = 'Salary of data scientists')\n",
    "full_stack_codeyear.plot(ax=ax, color = 'g', y='annual salary', label = 'Salary of full-stack developers')"
   ]
  },
  {
   "cell_type": "markdown",
   "metadata": {},
   "source": [
    "## Impact of educational degrees\n",
    "\n",
    "Connecting to last session, we seek for explaining why data scientists gain higher incoming than full stack developers, especially at an older age. We try to analyse educational aspect. \n",
    "\n",
    "For data scientists, we list their educational degrees (in ratios) in the following. The same is done for full stack developers. \n",
    "\n",
    "Findings:\n",
    "\n",
    "(1) Interestingly, there is significant difference in terms of degree distributions, implying a strong impact from education.  \n",
    "\n",
    "(2) Specifically, data scientists possess a higher probability of having higher degrees, e.g. master’s degree takes up 35.00% and 21.21% in data scientists and full stacks, respectively; PhD takes up 12.07% in data scientists but only 1.58% in full stacks. This finding well validates our hypothesis in earlier session.   "
   ]
  },
  {
   "cell_type": "code",
   "execution_count": 43,
   "metadata": {},
   "outputs": [
    {
     "data": {
      "text/plain": [
       "Master’s degree (MA, MS, M.Eng., MBA, etc.)                                          0.3562\n",
       "Bachelor’s degree (BA, BS, B.Eng., etc.)                                             0.3500\n",
       "Other doctoral degree (Ph.D, Ed.D., etc.)                                            0.1207\n",
       "Some college/university study without earning a degree                               0.0652\n",
       "Secondary school (e.g. American high school, German Realschule or Gymnasium, etc.)   0.0520\n",
       "Associate degree                                                                     0.0158\n",
       "Professional degree (JD, MD, etc.)                                                   0.0115\n",
       "Primary/elementary school                                                            0.0096\n",
       "I never completed any formal education                                               0.0053\n",
       "Name: EdLevel, dtype: float64"
      ]
     },
     "execution_count": 43,
     "metadata": {},
     "output_type": "execute_result"
    }
   ],
   "source": [
    "ds_edu = data_2019[job_dummy['Data scientist or machine learning specialist']]['EdLevel']\n",
    "ds_edu.value_counts()/ds_edu.shape[0]"
   ]
  },
  {
   "cell_type": "code",
   "execution_count": 44,
   "metadata": {},
   "outputs": [
    {
     "data": {
      "text/plain": [
       "Bachelor’s degree (BA, BS, B.Eng., etc.)                                             0.4895\n",
       "Master’s degree (MA, MS, M.Eng., MBA, etc.)                                          0.2121\n",
       "Some college/university study without earning a degree                               0.1268\n",
       "Secondary school (e.g. American high school, German Realschule or Gymnasium, etc.)   0.0728\n",
       "Associate degree                                                                     0.0368\n",
       "Other doctoral degree (Ph.D, Ed.D., etc.)                                            0.0158\n",
       "Professional degree (JD, MD, etc.)                                                   0.0143\n",
       "Primary/elementary school                                                            0.0079\n",
       "I never completed any formal education                                               0.0054\n",
       "Name: EdLevel, dtype: float64"
      ]
     },
     "execution_count": 44,
     "metadata": {},
     "output_type": "execute_result"
    }
   ],
   "source": [
    "ds_edu = data_2019[job_dummy['Developer, full-stack']]['EdLevel']\n",
    "ds_edu.value_counts()/ds_edu.shape[0]"
   ]
  },
  {
   "cell_type": "markdown",
   "metadata": {},
   "source": [
    "\n",
    "To further validates the hypothesis that higher degree leads to higher salary. We analyse the distribution of salaries over degrees from the entire respondents. As expected, higher degree is more likely to result in a higher salary (e.g. compared to bachelors, PhDs might gain higher return in the longer run, and this explains why gaps between data scientist and full stack become higher at older age). "
   ]
  },
  {
   "cell_type": "code",
   "execution_count": 45,
   "metadata": {},
   "outputs": [
    {
     "name": "stdout",
     "output_type": "stream",
     "text": [
      "Other doctoral degree (Ph.D, Ed.D., etc.) 113601.94522292993\n",
      "Bachelor’s degree (BA, BS, B.Eng., etc.) 88280.32942581616\n",
      "I never completed any formal education 88221.79545454546\n",
      "Master’s degree (MA, MS, M.Eng., MBA, etc.) 86293.74675116317\n",
      "Some college/university study without earning a degree 80593.93135011442\n",
      "Associate degree 80213.44313967861\n",
      "Primary/elementary school 77254.97916666667\n",
      "Secondary school (e.g. American high school, German Realschule or Gymnasium, etc.) 72401.87612516074\n",
      "Professional degree (JD, MD, etc.) 64110.00314465409\n"
     ]
    }
   ],
   "source": [
    "def relation_degree_sal(data):\n",
    "    degrees, degree_dummy = get_dummy(data, 'EdLevel')\n",
    "    sal_degree = get_partial_df(degree_dummy)\n",
    "    tmp = {}\n",
    "    for i in degrees:\n",
    "        tmp[i] = sal_degree[sal_degree[i]]['ConvertedComp'].mean()\n",
    "    for w in sorted(tmp, key=tmp.get, reverse=True):\n",
    "        print(w, tmp[w])\n",
    "relation_degree_sal(data_2019)"
   ]
  },
  {
   "cell_type": "markdown",
   "metadata": {},
   "source": [
    "## Programming languages \n",
    "\n",
    "The programming languages used by data scientist are listed. It is absolute that Python dominates the entire choices. Languages like C, Java and SQL are also widely used, while R is ranked at 8th place. As expected, data scientists need to be capable of handling a combination of tasks in data engineering (SQL) and machine learning (Python).  "
   ]
  },
  {
   "cell_type": "code",
   "execution_count": 46,
   "metadata": {},
   "outputs": [
    {
     "name": "stdout",
     "output_type": "stream",
     "text": [
      "Number of tools mentioned by data scientists \n",
      "\n",
      "Python                   5125\n",
      "C                        4598\n",
      "Java                     4155\n",
      "SQL                      3775\n",
      "JavaScript               3319\n",
      "HTML/CSS                 3258\n",
      "Bash/Shell/PowerShell    2874\n",
      "R                        2367\n",
      "C++                      2066\n",
      "C#                       1463\n",
      "PHP                      1198\n",
      "TypeScript                856\n",
      "Other(s):                 682\n",
      "Assembly                  623\n",
      "Scala                     611\n",
      "Go                        563\n",
      "VBA                       490\n",
      "Ruby                      426\n",
      "Swift                     327\n",
      "Kotlin                    304\n",
      "Objective-C               254\n",
      "Rust                      237\n",
      "Clojure                   140\n",
      "WebAssembly               121\n",
      "Dart                      119\n",
      "Elixir                    108\n",
      "F#                        100\n",
      "Erlang                     95\n",
      "dtype: int64\n"
     ]
    }
   ],
   "source": [
    "ds = language_dummy[job_dummy['Data scientist or machine learning specialist']]\n",
    "ds = ds.sum().sort_values(ascending=False)\n",
    "print('Number of tools mentioned by data scientists \\n')\n",
    "print(ds)"
   ]
  },
  {
   "cell_type": "markdown",
   "metadata": {},
   "source": [
    "# Conclusion\n",
    "\n",
    "This notebook explores some insights based on StackOverflow survey in years 2017-2019, with a particular emphasis on data science job. It is found that on average data science career is ranked one of the highest salaries, and its pay intends to linearly grow with one’s working experience. A key reason is about employees’ educational degree. It is found that there are considerably more master and PhD degree holders taking data scientist career than full stack developer career. As observed from the survey, a higher degree usually leads to a higher pay on average. \n",
    "\n",
    "In the future, it might be very interesting to investigate individuals’ career history chronologies and derive impacts on career return temporally. For example, a question like “what is the transition rate from career of x to career of data scientist? And what is it reversely?” "
   ]
  },
  {
   "cell_type": "code",
   "execution_count": null,
   "metadata": {},
   "outputs": [],
   "source": []
  }
 ],
 "metadata": {
  "kernelspec": {
   "display_name": "Python 3",
   "language": "python",
   "name": "python3"
  },
  "language_info": {
   "codemirror_mode": {
    "name": "ipython",
    "version": 3
   },
   "file_extension": ".py",
   "mimetype": "text/x-python",
   "name": "python",
   "nbconvert_exporter": "python",
   "pygments_lexer": "ipython3",
   "version": "3.5.3"
  },
  "toc": {
   "nav_menu": {},
   "number_sections": true,
   "sideBar": true,
   "skip_h1_title": false,
   "toc_cell": false,
   "toc_position": {},
   "toc_section_display": "block",
   "toc_window_display": true
  }
 },
 "nbformat": 4,
 "nbformat_minor": 2
}
